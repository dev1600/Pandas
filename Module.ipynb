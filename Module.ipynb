{
 "cells": [
  {
   "cell_type": "markdown",
   "id": "249ed401",
   "metadata": {},
   "source": [
    "234"
   ]
  },
  {
   "cell_type": "markdown",
   "id": "e9592205",
   "metadata": {},
   "source": [
    "# Modules"
   ]
  },
  {
   "cell_type": "code",
   "execution_count": 8,
   "id": "ba577874",
   "metadata": {},
   "outputs": [],
   "source": [
    "import os"
   ]
  },
  {
   "cell_type": "code",
   "execution_count": 9,
   "id": "efc6b716",
   "metadata": {},
   "outputs": [
    {
     "data": {
      "text/plain": [
       "'/home/dev16/Data Analysis'"
      ]
     },
     "execution_count": 9,
     "metadata": {},
     "output_type": "execute_result"
    }
   ],
   "source": [
    "os.getcwd() # Get current working directory"
   ]
  },
  {
   "cell_type": "code",
   "execution_count": 10,
   "id": "2185dd15",
   "metadata": {},
   "outputs": [
    {
     "data": {
      "text/plain": [
       "['Untitled.ipynb', '.ipynb_checkpoints']"
      ]
     },
     "execution_count": 10,
     "metadata": {},
     "output_type": "execute_result"
    }
   ],
   "source": [
    "os.listdir() # List the files"
   ]
  },
  {
   "cell_type": "code",
   "execution_count": 13,
   "id": "ddf1157a",
   "metadata": {},
   "outputs": [],
   "source": [
    "os.makedirs(\"NFolder\") #Make new folder with name given in bracket"
   ]
  },
  {
   "cell_type": "code",
   "execution_count": 14,
   "id": "2acab335",
   "metadata": {},
   "outputs": [
    {
     "data": {
      "text/plain": [
       "['Untitled.ipynb', 'New Folder', 'NFolder', '.ipynb_checkpoints']"
      ]
     },
     "execution_count": 14,
     "metadata": {},
     "output_type": "execute_result"
    }
   ],
   "source": [
    "os.listdir()"
   ]
  }
 ],
 "metadata": {
  "kernelspec": {
   "display_name": "Python 3 (ipykernel)",
   "language": "python",
   "name": "python3"
  },
  "language_info": {
   "codemirror_mode": {
    "name": "ipython",
    "version": 3
   },
   "file_extension": ".py",
   "mimetype": "text/x-python",
   "name": "python",
   "nbconvert_exporter": "python",
   "pygments_lexer": "ipython3",
   "version": "3.8.10"
  }
 },
 "nbformat": 4,
 "nbformat_minor": 5
}
